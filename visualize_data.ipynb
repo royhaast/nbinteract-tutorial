{
 "cells": [
  {
   "cell_type": "code",
   "execution_count": 1,
   "id": "2ed41bb9-560d-4515-9169-216f6e892e16",
   "metadata": {},
   "outputs": [],
   "source": [
    "%load_ext autoreload\n",
    "%autoreload 2"
   ]
  },
  {
   "cell_type": "code",
   "execution_count": 2,
   "id": "5f626790-90fb-4273-b77d-b14cde39560a",
   "metadata": {},
   "outputs": [],
   "source": [
    "%matplotlib widget\n",
    "\n",
    "from utilities import load_data, visualize_volume_data, visualize_surface_data"
   ]
  },
  {
   "cell_type": "code",
   "execution_count": 3,
   "id": "e87e4d24-52b7-4868-a00d-95663fba5d57",
   "metadata": {},
   "outputs": [
    {
     "data": {
      "application/vnd.jupyter.widget-view+json": {
       "model_id": "e74c55e4827141f68ecf4f8cbc597672",
       "version_major": 2,
       "version_minor": 0
      },
      "text/plain": [
       "visualize_surface_data(children=(VBox(children=(Dropdown(description='Subject:', options=('Sub-01', 'Sub-02', …"
      ]
     },
     "metadata": {},
     "output_type": "display_data"
    }
   ],
   "source": [
    "# Visualize surface data, takes a couple of seconds to render per change\n",
    "visualize_surface_data(load_data('hippocampal_surface_data.npz'))"
   ]
  },
  {
   "cell_type": "code",
   "execution_count": 4,
   "id": "b2ae5c19-78a0-42b5-b71d-b02fb70cabbf",
   "metadata": {
    "tags": []
   },
   "outputs": [
    {
     "data": {
      "application/vnd.jupyter.widget-view+json": {
       "model_id": "3d468c2b9d924056a4e826add964f9b0",
       "version_major": 2,
       "version_minor": 0
      },
      "text/plain": [
       "visualize_volume_data(children=(VBox(children=(Dropdown(description='Subject:', options=('Sub-01', 'Sub-02', '…"
      ]
     },
     "metadata": {},
     "output_type": "display_data"
    }
   ],
   "source": [
    "visualize_volume_data(load_data('hippocampal_volume_data.npz'))"
   ]
  },
  {
   "cell_type": "code",
   "execution_count": null,
   "id": "f38294b9-fc51-49d1-8206-b2a186339ab7",
   "metadata": {},
   "outputs": [],
   "source": []
  }
 ],
 "metadata": {
  "kernelspec": {
   "display_name": "Python 3",
   "language": "python",
   "name": "python3"
  },
  "language_info": {
   "codemirror_mode": {
    "name": "ipython",
    "version": 3
   },
   "file_extension": ".py",
   "mimetype": "text/x-python",
   "name": "python",
   "nbconvert_exporter": "python",
   "pygments_lexer": "ipython3",
   "version": "3.8.10"
  }
 },
 "nbformat": 4,
 "nbformat_minor": 5
}
