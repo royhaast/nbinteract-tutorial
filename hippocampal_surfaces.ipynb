{
 "cells": [
  {
   "cell_type": "code",
   "execution_count": 2,
   "id": "e8caf547-29e3-4c7b-9835-5b842e03598c",
   "metadata": {},
   "outputs": [],
   "source": [
    "import numpy as np\n",
    "import nibabel as nib\n",
    "import matplotlib.pyplot as plt\n",
    "import matplotlib as mpl\n",
    "import plotly\n",
    "import plotly.graph_objs as go\n",
    "import ipywidgets as widgets\n",
    "from ipywidgets import interact"
   ]
  },
  {
   "cell_type": "code",
   "execution_count": 13,
   "id": "1b017925-0ad3-4515-ac92-6df4717039e8",
   "metadata": {},
   "outputs": [],
   "source": [
    "def colormapper(data, cmap, vmin, vmax):\n",
    "    norm   = mpl.colors.Normalize(vmin=vmin, vmax=vmax, clip=True)\n",
    "    mapper = mpl.cm.ScalarMappable(norm=norm, cmap=cmap)\n",
    "    \n",
    "    return [ mapper.to_rgba(x) for x in data ]"
   ]
  },
  {
   "cell_type": "code",
   "execution_count": 7,
   "id": "1ec71e22-d77b-4a80-8148-9f6fa56bea45",
   "metadata": {},
   "outputs": [],
   "source": [
    "# Visualization scene settings\n",
    "camera = dict(\n",
    "    eye=dict(x=0, y=0, z=2.5)\n",
    ")\n",
    "\n",
    "scene = dict(\n",
    "    xaxis = dict(showbackground=False, visible=False),\n",
    "    yaxis = dict(showbackground=False, visible=False),\n",
    "    zaxis = dict(showbackground=False, visible=False)\n",
    ")\n",
    "\n",
    "margin = dict(l=0, r=0, b=0, t=0)\n",
    "\n",
    "settings = dict(\n",
    "    width=500,\n",
    "    height=500,\n",
    "    scene=scene,\n",
    "    scene_aspectmode='data',\n",
    "    scene_camera=camera,\n",
    "    margin=margin,\n",
    "    showlegend=False,\n",
    "    hovermode=False\n",
    ")"
   ]
  },
  {
   "cell_type": "code",
   "execution_count": 21,
   "id": "d57befe5-7d28-41c5-821b-d05d4ea17e26",
   "metadata": {},
   "outputs": [],
   "source": [
    "# Color map settings\n",
    "overlay_dict = {\n",
    "    0: (mpl.cm.gray, 0, 1.5),\n",
    "    1: (mpl.cm.tab10, 1, 10), \n",
    "    2: (mpl.cm.viridis, 0.5, 1.5)\n",
    "}"
   ]
  },
  {
   "cell_type": "code",
   "execution_count": 22,
   "id": "5c9e8c4f-b845-47ce-9bb5-c331d152a373",
   "metadata": {},
   "outputs": [],
   "source": [
    "data = np.load('sub-01.npz')"
   ]
  },
  {
   "cell_type": "code",
   "execution_count": 23,
   "id": "5a97b067-c168-4bbe-9f11-e678f731b05e",
   "metadata": {},
   "outputs": [
    {
     "data": {
      "application/vnd.jupyter.widget-view+json": {
       "model_id": "9102ca59b8924d988b5ff88cffb98d8c",
       "version_major": 2,
       "version_minor": 0
      },
      "text/plain": [
       "interactive(children=(Dropdown(description='Overlay', options=(('Plain', 0), ('Subfields', 1), ('Thickness', 2…"
      ]
     },
     "metadata": {},
     "output_type": "display_data"
    },
    {
     "data": {
      "application/vnd.jupyter.widget-view+json": {
       "model_id": "3c2a8d0422f649c491083d5fa974eb4b",
       "version_major": 2,
       "version_minor": 0
      },
      "text/plain": [
       "FigureWidget({\n",
       "    'data': [{'i': array([   0,    1,    3, ..., 1600, 1643, 1507], dtype=int32),\n",
       "              'j': array([   1,    3,    4, ..., 1599, 1600, 1643], dtype=int32),\n",
       "              'k': array([   2,    2,    2, ..., 1505, 1457, 1457], dtype=int32),\n",
       "              'type': 'mesh3d',\n",
       "              'uid': 'e571fc31-19d4-463b-99de-7edb213b181f',\n",
       "              'vertexcolor': [[0.6666666666666666, 0.6666666666666666,\n",
       "                              0.6666666666666666, 1.0], [0.6666666666666666,\n",
       "                              0.6666666666666666, 0.6666666666666666, 1.0],\n",
       "                              [0.6666666666666666, 0.6666666666666666,\n",
       "                              0.6666666666666666, 1.0], ..., [0.6666666666666666,\n",
       "                              0.6666666666666666, 0.6666666666666666, 1.0],\n",
       "                              [0.6666666666666666, 0.6666666666666666,\n",
       "                              0.6666666666666666, 1.0], [0.6666666666666666,\n",
       "                              0.6666666666666666, 0.6666666666666666, 1.0]],\n",
       "              'x': array([16.255003, 16.683582, 17.0356  , ..., 20.708515, 19.407736, 15.66958 ],\n",
       "                         dtype=float32),\n",
       "              'y': array([  3.368166 ,   3.4864223,   4.091409 , ..., -27.368519 , -27.543861 ,\n",
       "                          -28.015633 ], dtype=float32),\n",
       "              'z': array([-14.398474, -14.647686, -14.342249, ..., -10.152511, -10.017822,\n",
       "                           -9.778802], dtype=float32)}],\n",
       "    'layout': {'height': 500,\n",
       "               'hovermode': False,\n",
       "               'margin': {'b': 0, 'l': 0, 'r': 0, 't': 0},\n",
       "               'scene': {'aspectmode': 'data',\n",
       "                         'camera': {'eye': {'x': 0, 'y': 0, 'z': 2.5}},\n",
       "                         'xaxis': {'showbackground': False, 'visible': False},\n",
       "                         'yaxis': {'showbackground': False, 'visible': False},\n",
       "                         'zaxis': {'showbackground': False, 'visible': False}},\n",
       "               'showlegend': False,\n",
       "               'template': '...',\n",
       "               'width': 500}\n",
       "})"
      ]
     },
     "execution_count": 23,
     "metadata": {},
     "output_type": "execute_result"
    }
   ],
   "source": [
    "fig = go.FigureWidget()\n",
    "mesh = fig.add_trace(\n",
    "    go.Mesh3d(\n",
    "        x=data['vertices'][:,0], \n",
    "        y=data['vertices'][:,1], \n",
    "        z=data['vertices'][:,2], \n",
    "        i=data['faces'][:,0], \n",
    "        j=data['faces'][:,1], \n",
    "        k=data['faces'][:,2]\n",
    "    )\n",
    ")\n",
    "\n",
    "fig.update_layout(dict1=settings)\n",
    "\n",
    "@interact(Overlay=[('Plain', 0), ('Subfields', 1), ('Thickness', 2)])\n",
    "def update(Overlay=[('Plain', 0)]):\n",
    "    with fig.batch_update():\n",
    "        cdata      = data['overlays'][Overlay,:]\n",
    "        cmap       = overlay_dict[Overlay][0]\n",
    "        vmin, vmax = overlay_dict[Overlay][1], overlay_dict[Overlay][2]\n",
    "        mesh.data[0].vertexcolor=colormapper(cdata, cmap, vmin, vmax)      \n",
    "fig"
   ]
  },
  {
   "cell_type": "code",
   "execution_count": null,
   "id": "a167751e-7017-4090-abb9-e2abc238915d",
   "metadata": {},
   "outputs": [],
   "source": []
  }
 ],
 "metadata": {
  "kernelspec": {
   "display_name": "Python 3 (ipykernel)",
   "language": "python",
   "name": "python3"
  },
  "language_info": {
   "codemirror_mode": {
    "name": "ipython",
    "version": 3
   },
   "file_extension": ".py",
   "mimetype": "text/x-python",
   "name": "python",
   "nbconvert_exporter": "python",
   "pygments_lexer": "ipython3",
   "version": "3.7.12"
  }
 },
 "nbformat": 4,
 "nbformat_minor": 5
}
