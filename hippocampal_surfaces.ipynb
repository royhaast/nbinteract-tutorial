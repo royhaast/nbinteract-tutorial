{
 "cells": [
  {
   "cell_type": "code",
   "execution_count": 8,
   "id": "a012f0f2-3b53-4b13-b0a5-777d0b612563",
   "metadata": {},
   "outputs": [],
   "source": [
    "import numpy as np\n",
    "from for_paper.utilities import plot_midthickness"
   ]
  },
  {
   "cell_type": "code",
   "execution_count": 31,
   "id": "068850f0-d68d-4ad0-998b-1f1e45269648",
   "metadata": {},
   "outputs": [],
   "source": [
    "data = np.load('hippocampal_data.npz', allow_pickle=True)['data'][..., None][0]"
   ]
  },
  {
   "cell_type": "code",
   "execution_count": 40,
   "id": "05dc4ae8-6ce3-4d42-8835-8b1f9703c898",
   "metadata": {},
   "outputs": [
    {
     "data": {
      "application/vnd.jupyter.widget-view+json": {
       "model_id": "795273427f5d416495f1608d12075b40",
       "version_major": 2,
       "version_minor": 0
      },
      "text/plain": [
       "interactive(children=(Dropdown(description='Subject', options=('Sub-01', 'Sub-02', 'Sub-03'), value='Sub-01'),…"
      ]
     },
     "metadata": {},
     "output_type": "display_data"
    },
    {
     "data": {
      "application/vnd.jupyter.widget-view+json": {
       "model_id": "5e5bc395c50d4be5a9b26ed6f7837ebb",
       "version_major": 2,
       "version_minor": 0
      },
      "text/plain": [
       "FigureWidget({\n",
       "    'data': [{'i': array([   0,    1,    3, ..., 1600, 1643, 1507], dtype=int32),\n",
       "             …"
      ]
     },
     "metadata": {},
     "output_type": "display_data"
    }
   ],
   "source": [
    "plot_midthickness(data)"
   ]
  }
 ],
 "metadata": {
  "kernelspec": {
   "display_name": "Python 3",
   "language": "python",
   "name": "python3"
  },
  "language_info": {
   "codemirror_mode": {
    "name": "ipython",
    "version": 3
   },
   "file_extension": ".py",
   "mimetype": "text/x-python",
   "name": "python",
   "nbconvert_exporter": "python",
   "pygments_lexer": "ipython3",
   "version": "3.8.10"
  }
 },
 "nbformat": 4,
 "nbformat_minor": 5
}
